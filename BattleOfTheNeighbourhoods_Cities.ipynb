{
 "cells": [
  {
   "cell_type": "markdown",
   "metadata": {},
   "source": [
    "# Peer-graded Assignment: Capstone Project - The Battle of Neighborhoods"
   ]
  },
  {
   "cell_type": "markdown",
   "metadata": {},
   "source": [
    "### Week 1 - Introduction/Business Problem"
   ]
  },
  {
   "cell_type": "markdown",
   "metadata": {},
   "source": [
    "I live in Melbourne and am very biased when it comes to the debate over whether Sydney is better than Melbourne. They are of course very different cities with different histories, industries and tourist attractions among other things.\n",
    "\n",
    "They are both set in ports but experience very different weather and have their own local planning bodies. In the past people have referred to the different liquor licensing rules in each CBD. Sydney’s bars have typically closed much earlier whereas Melbourne’s laws allow bars to be open longer changing the economics of running different types of venues and creating what is famously a lane-way bar culture in Melbourne.\n",
    "\n",
    "Melbourne, at least my Melbournians, has long been considered the foodie capital of Australia. Melbourne also boasts being voted one of the world’s most livable cities I the world and in 2017 had held that position for seven consecutive years. In the last couple of years, Sydney has been ranked above or closely behind Melbourne.\n",
    "\n",
    "What I aim to establish during my analysis is the difference between these two cities and the neighbourhoods within them. This will hopefully allow any individual understand why they might pick one city over the other, or identify opportunities to open new shops/restaurants where there might be unmet demand, etc.\n",
    "\n",
    "Both cities consist of various neighbourhoods surrounding the central CBD where startups and new business districts have had an impact. I will use the [City of Melbourne](https://www.melbourne.vic.gov.au/sitecollectiondocuments/suburb-map-boundary-city-of-melbourne.pdf) and [City of Sydney](https://www.cityofsydney.nsw.gov.au/__data/assets/pdf_file/0017/226421/Map-of-City-of-Sydney-Local-Government-Area.pdf) council bourdaries as the basis for the analysis. The assumption is that most visitors will base themselves in the city and this is the best point of comparison (I have to limit it somehow)."
   ]
  },
  {
   "cell_type": "markdown",
   "metadata": {},
   "source": [
    "### Week 1 - Data Sources"
   ]
  },
  {
   "cell_type": "markdown",
   "metadata": {},
   "source": [
    "I will use foursquare data across both CBD areas and overlay [Australian Beaura of Statistics data (ABS)](https://www.abs.gov.au) together with open data sets made available by [Melbourne](https://data.melbourne.vic.gov.au) and [Sydney](https://data.cityofsydney.nsw.gov.au) city councils (of course there is the [national open data](https://data.gov.au) initiative too). Part of the challenge in my initial investigations has been finding common datasets across both cities. I will either have to make assumptions or use similar but different datasets (for example – Melbourne city council have live data feeds of pedestrian counts, [Melbourne Pedestrian Counting System](http://www.pedestrian.melbourne.vic.gov.au) at various locations around the city but Sydney does a walking study every couple of years).\n",
    "\n",
    "The ABS had datasets that can be scraped or downloaded from sites like the [2016 Census QuickStats](https://quickstats.censusdata.abs.gov.au/census_services/getproduct/census/2016/quickstat/POA3000?opendocument) where I can loop through a set of [Melbourne City postcodes](https://en.wikipedia.org/wiki/List_of_Melbourne_suburbs#City_of_Melbourne) that make up Melbourne city council. Another useful source of data maybe [immigration stats](https://www.abs.gov.au/ausstats/abs@.nsf/Latestproducts/3412.0Main%20Features32017-18?opendocument&tabname=Summary&prodno=3412.0&issue=2017-18&num=&view=) for both cities. Both have been growing rapidly push up house prices, etc. Melbourne in particular is expected to overtake Sydney as the largest city by 2026 (although an initial search suggests the 2016 census and earlier reports are probably going to be the best source of this information too).\n",
    "\n",
    "Another dataset I hope to use is the [Google Places API](https://developers.google.com/places/web-service/intro). I still need to establish what limits might be applied and how practical that is, but it can be used to both augment the foursquare data and extend it. There is useful additional information in the Google Places API like opening hours, etc.\n",
    "\n",
    "At the very least I will be able to compare the foursquare data, but hopefully I can augment this with relevant data from open data sources and ABS data that helps put the differences/similarities into context for tourists, town planers, etc. Things we can do with the [Foursquare (regular) API](https://developer.foursquare.com/docs/places-api/endpoints/):\n",
    "* Identify the number and type of venues within each postcode\n",
    "* Understand how many times each venue has been liked (populatity)\n",
    "* See if any venues are popular enough to make it onto a list (perhaps compare against cities/beighbourhoods)\n",
    "\n",
    "Together with other data from ABS, open data sources and Google Places API we can look at:\n",
    "* Population demographics of each area comparing this to types of venues (schools, cafes, etc) or types of restaurants (comparing the makeup of neighbourhoods within and across cities\n",
    "* Using venue data and pedestrian traffic we could determine that a location is full of offices/places of work\n",
    "* Using open hours we can determine drinking and dining hotspots that people might visit after work or as a tourist\n",
    "\n",
    "We can look at clusters within each city and also across cities to find similar locations and then compare."
   ]
  },
  {
   "cell_type": "code",
   "execution_count": null,
   "metadata": {},
   "outputs": [],
   "source": []
  }
 ],
 "metadata": {
  "kernelspec": {
   "display_name": "Python 3",
   "language": "python",
   "name": "python3"
  },
  "language_info": {
   "codemirror_mode": {
    "name": "ipython",
    "version": 3
   },
   "file_extension": ".py",
   "mimetype": "text/x-python",
   "name": "python",
   "nbconvert_exporter": "python",
   "pygments_lexer": "ipython3",
   "version": "3.7.2"
  }
 },
 "nbformat": 4,
 "nbformat_minor": 2
}
